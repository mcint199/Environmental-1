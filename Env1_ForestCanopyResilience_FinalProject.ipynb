{
 "cells": [
  {
   "cell_type": "markdown",
   "metadata": {},
   "source": [
    "#### CMSE 202 Final Project\n",
    "### &#9989; Annalise Cornell, Ren McIntyre, Erika Bartosiewicz\n",
    "### &#9989; Section 002, Project Environmental 1\n",
    "#### &#9989; 3/31/2020"
   ]
  },
  {
   "cell_type": "markdown",
   "metadata": {},
   "source": [
    "https://www.ncrs.fs.fed.us/pubs/jrnl/2013/nrs_2013_zheng_001.pdf\n",
    "    \n",
    "https://www.mrlc.gov/data?f%5B0%5D=year%3A2016"
   ]
  },
  {
   "cell_type": "markdown",
   "metadata": {},
   "source": [
    "# ___Urban Forest Canopy Resilience___"
   ]
  },
  {
   "cell_type": "markdown",
   "metadata": {},
   "source": [
    "https://www.fs.fed.us/psw/topics/urban_forestry/products/cufr_43.pdf (Chapter three,  \n",
    "- Calculate CO2 Reduction and Release for Mature Trees 38, \n",
    "- Calculate CO2 Reduction and Release for 40 Years  39\n",
    "- Calculating Cost per Tonne  42\n",
    "\n",
    "https://daac.ornl.gov/CMS/guides/CMS_LiDAR_Biomass_MD_PA_DE.html\n",
    "- import new data (known biomass)\n",
    "- making a regression line charting biomass to land cover area\n",
    "- use that to predict above ground biomass for urban canopy\n",
    "- 50 percent = carbon sequestration"
   ]
  },
  {
   "cell_type": "markdown",
   "metadata": {},
   "source": [
    "## Problem"
   ]
  },
  {
   "cell_type": "markdown",
   "metadata": {},
   "source": [
    "Question: We want to predict the carbon stored in urban trees?  \n",
    "\n",
    "\n",
    "Trees and shrubbery provide several benefits for the community. With increased CO2 emissions and global warming gaining increased concern in the past decades, the protection of the urban forest canopy becomes increasingly important to increase its resilience to climate change.\n",
    "\n",
    "Most of the world's population now lives in what are considered urban areas, and these account for between 40-70 percent of greenhouse gas emissions (Safford et. al., 2013). Urban forests, a term referring to the trees and shrubbery within a densly populated area, might be helpful in strengthening resilience to climate change (Safford et. al., 2013). Plants are known to utilize atmospheric CO2 in the process of photosynthesis, and so they take away from the excess CO2 emissions brought about by humans. \n",
    "\n",
    "This project will look to model how population density and tree density impact carbon sequestration and storage as well as how they take away from total air pollution, thus adding to resilience against climate change."
   ]
  },
  {
   "cell_type": "markdown",
   "metadata": {},
   "source": [
    "## Data"
   ]
  },
  {
   "cell_type": "code",
   "execution_count": 14,
   "metadata": {},
   "outputs": [
    {
     "data": {
      "text/html": [
       "<div>\n",
       "<style scoped>\n",
       "    .dataframe tbody tr th:only-of-type {\n",
       "        vertical-align: middle;\n",
       "    }\n",
       "\n",
       "    .dataframe tbody tr th {\n",
       "        vertical-align: top;\n",
       "    }\n",
       "\n",
       "    .dataframe thead th {\n",
       "        text-align: right;\n",
       "    }\n",
       "</style>\n",
       "<table border=\"1\" class=\"dataframe\">\n",
       "  <thead>\n",
       "    <tr style=\"text-align: right;\">\n",
       "      <th></th>\n",
       "      <th>Michigan</th>\n",
       "      <th>Statistic</th>\n",
       "      <th>Statewide</th>\n",
       "      <th>Urban</th>\n",
       "      <th>Community</th>\n",
       "      <th>Urban or community</th>\n",
       "    </tr>\n",
       "  </thead>\n",
       "  <tbody>\n",
       "    <tr>\n",
       "      <td>0</td>\n",
       "      <td>Population</td>\n",
       "      <td>2000</td>\n",
       "      <td>9938444</td>\n",
       "      <td>7419457</td>\n",
       "      <td>6384273</td>\n",
       "      <td>NaN</td>\n",
       "    </tr>\n",
       "    <tr>\n",
       "      <td>1</td>\n",
       "      <td>Population</td>\n",
       "      <td>1990</td>\n",
       "      <td>9295297</td>\n",
       "      <td>6555842</td>\n",
       "      <td>6073842</td>\n",
       "      <td>NaN</td>\n",
       "    </tr>\n",
       "    <tr>\n",
       "      <td>2</td>\n",
       "      <td>Population</td>\n",
       "      <td>% Change (1990-2000)</td>\n",
       "      <td>6.91906</td>\n",
       "      <td>13.1732</td>\n",
       "      <td>5.11095</td>\n",
       "      <td>NaN</td>\n",
       "    </tr>\n",
       "    <tr>\n",
       "      <td>3</td>\n",
       "      <td>Population</td>\n",
       "      <td>% Total population (2000)</td>\n",
       "      <td>100</td>\n",
       "      <td>74.6541</td>\n",
       "      <td>64.2382</td>\n",
       "      <td>NaN</td>\n",
       "    </tr>\n",
       "    <tr>\n",
       "      <td>4</td>\n",
       "      <td>Total area</td>\n",
       "      <td>km2 (2000)</td>\n",
       "      <td>250494</td>\n",
       "      <td>8879.5</td>\n",
       "      <td>7871.44</td>\n",
       "      <td>11283.6</td>\n",
       "    </tr>\n",
       "  </tbody>\n",
       "</table>\n",
       "</div>"
      ],
      "text/plain": [
       "      Michigan                  Statistic Statewide    Urban Community  \\\n",
       "0   Population                       2000   9938444  7419457   6384273   \n",
       "1   Population                       1990   9295297  6555842   6073842   \n",
       "2   Population       % Change (1990-2000)   6.91906  13.1732   5.11095   \n",
       "3   Population  % Total population (2000)       100  74.6541   64.2382   \n",
       "4  Total area                  km2 (2000)    250494   8879.5   7871.44   \n",
       "\n",
       "  Urban or community  \n",
       "0                NaN  \n",
       "1                NaN  \n",
       "2                NaN  \n",
       "3                NaN  \n",
       "4            11283.6  "
      ]
     },
     "execution_count": 14,
     "metadata": {},
     "output_type": "execute_result"
    }
   ],
   "source": [
    "import pandas as pd\n",
    "\n",
    "summary_data = pd.read_excel(\"MI_Tables_edited.xls\", \"1\", skiprows = 2)\n",
    "summary_data.rename(columns = {\"Michigan.1\": \"Statistic\", \"Urban a\": \"Urban\", \"Community b\": \"Community\", \"Urban or community c\":\"Urban or community\"}, inplace = True)\n",
    "summary_data.head()"
   ]
  },
  {
   "cell_type": "code",
   "execution_count": 21,
   "metadata": {
    "scrolled": true
   },
   "outputs": [
    {
     "data": {
      "text/html": [
       "<div>\n",
       "<style scoped>\n",
       "    .dataframe tbody tr th:only-of-type {\n",
       "        vertical-align: middle;\n",
       "    }\n",
       "\n",
       "    .dataframe tbody tr th {\n",
       "        vertical-align: top;\n",
       "    }\n",
       "\n",
       "    .dataframe thead th {\n",
       "        text-align: right;\n",
       "    }\n",
       "</style>\n",
       "<table border=\"1\" class=\"dataframe\">\n",
       "  <thead>\n",
       "    <tr style=\"text-align: right;\">\n",
       "      <th></th>\n",
       "      <th>Community Name</th>\n",
       "      <th>% Tree Canopy Cover</th>\n",
       "      <th>Tree Canopy Cover m2/person</th>\n",
       "      <th>Total green space (ha)</th>\n",
       "      <th>Canopy green space %</th>\n",
       "    </tr>\n",
       "  </thead>\n",
       "  <tbody>\n",
       "    <tr>\n",
       "      <td>0</td>\n",
       "      <td>Addison village</td>\n",
       "      <td>0.110675</td>\n",
       "      <td>459.272727</td>\n",
       "      <td>232.9780</td>\n",
       "      <td>0.123601</td>\n",
       "    </tr>\n",
       "    <tr>\n",
       "      <td>1</td>\n",
       "      <td>Adrian city</td>\n",
       "      <td>0.085301</td>\n",
       "      <td>73.550107</td>\n",
       "      <td>1146.7500</td>\n",
       "      <td>0.138371</td>\n",
       "    </tr>\n",
       "    <tr>\n",
       "      <td>2</td>\n",
       "      <td>Ahmeek village</td>\n",
       "      <td>0.185460</td>\n",
       "      <td>184.987261</td>\n",
       "      <td>10.5417</td>\n",
       "      <td>0.275506</td>\n",
       "    </tr>\n",
       "    <tr>\n",
       "      <td>3</td>\n",
       "      <td>Akron village</td>\n",
       "      <td>0.037486</td>\n",
       "      <td>200.889371</td>\n",
       "      <td>224.3340</td>\n",
       "      <td>0.041282</td>\n",
       "    </tr>\n",
       "    <tr>\n",
       "      <td>4</td>\n",
       "      <td>Alanson village</td>\n",
       "      <td>0.357788</td>\n",
       "      <td>1192.459873</td>\n",
       "      <td>231.0580</td>\n",
       "      <td>0.405128</td>\n",
       "    </tr>\n",
       "  </tbody>\n",
       "</table>\n",
       "</div>"
      ],
      "text/plain": [
       "    Community Name  % Tree Canopy Cover  Tree Canopy Cover m2/person  \\\n",
       "0  Addison village             0.110675                   459.272727   \n",
       "1      Adrian city             0.085301                    73.550107   \n",
       "2   Ahmeek village             0.185460                   184.987261   \n",
       "3    Akron village             0.037486                   200.889371   \n",
       "4  Alanson village             0.357788                  1192.459873   \n",
       "\n",
       "   Total green space (ha)  Canopy green space %  \n",
       "0                232.9780              0.123601  \n",
       "1               1146.7500              0.138371  \n",
       "2                 10.5417              0.275506  \n",
       "3                224.3340              0.041282  \n",
       "4                231.0580              0.405128  "
      ]
     },
     "execution_count": 21,
     "metadata": {},
     "output_type": "execute_result"
    }
   ],
   "source": [
    "wi_canopy_data_by_community = pd.read_excel(\"WI_Tables.xls\", \"5\", skiprows = 3, usecols = (0, 4, 5, 6, 7))\n",
    "wi_canopy_data_by_community.rename(columns = {\"Unnamed: 0\": \"Community Name\", \"Unnamed: 1\": \"Mapping Zone\", \"%\": \"% Impervious surface cover\", \"m2/person\": \"Impervious surface cover m2/person\", \"%.1\": \"% Tree Canopy Cover\", \"m2/person.1\": \"Tree Canopy Cover m2/person\"}, inplace = True)\n",
    "\n",
    "oh_canopy_data_by_community = pd.read_excel(\"OH_Tables.xls\", \"5\", skiprows = 3, usecols = (0, 4, 5, 6, 7))\n",
    "oh_canopy_data_by_community.rename(columns = {\"Unnamed: 0\": \"Community Name\", \"Unnamed: 1\": \"Mapping Zone\", \"%\": \"% Impervious surface cover\", \"m2/person\": \"Impervious surface cover m2/person\", \"%.1\": \"% Tree Canopy Cover\", \"m2/person.1\": \"Tree Canopy Cover m2/person\"}, inplace = True)\n",
    "\n",
    "in_canopy_data_by_community = pd.read_excel(\"IN_Tables.xls\", \"5\", skiprows = 3, usecols = (0, 4, 5, 6, 7))\n",
    "in_canopy_data_by_community.rename(columns = {\"Unnamed: 0\": \"Community Name\", \"Unnamed: 1\": \"Mapping Zone\", \"%\": \"% Impervious surface cover\", \"m2/person\": \"Impervious surface cover m2/person\", \"%.1\": \"% Tree Canopy Cover\", \"m2/person.1\": \"Tree Canopy Cover m2/person\"}, inplace = True)\n",
    "\n",
    "il_canopy_data_by_community = pd.read_excel(\"IL_Tables.xls\", \"5\", skiprows = 3, usecols = (0, 4, 5, 6, 7))\n",
    "il_canopy_data_by_community.rename(columns = {\"Unnamed: 0\": \"Community Name\", \"Unnamed: 1\": \"Mapping Zone\", \"%\": \"% Impervious surface cover\", \"m2/person\": \"Impervious surface cover m2/person\", \"%.1\": \"% Tree Canopy Cover\", \"m2/person.1\": \"Tree Canopy Cover m2/person\"}, inplace = True)\n",
    "\n",
    "mi_canopy_data_by_community = pd.read_excel(\"MI_Tables.xls\", \"5\", skiprows = 3, usecols = (0, 4, 5, 6, 7))\n",
    "mi_canopy_data_by_community.rename(columns = {\"Unnamed: 0\": \"Community Name\", \"Unnamed: 1\": \"Mapping Zone\", \"%\": \"% Impervious surface cover\", \"m2/person\": \"Impervious surface cover m2/person\", \"%.1\": \"% Tree Canopy Cover\", \"m2/person.1\": \"Tree Canopy Cover m2/person\"}, inplace = True)\n",
    "mi_canopy_data_by_community.head()"
   ]
  },
  {
   "cell_type": "markdown",
   "metadata": {},
   "source": [
    "This shows the green cover by county in Michigan. The column that is of the most importance here is the Total green space (ha) "
   ]
  },
  {
   "cell_type": "code",
   "execution_count": 3,
   "metadata": {},
   "outputs": [
    {
     "data": {
      "text/html": [
       "<div>\n",
       "<style scoped>\n",
       "    .dataframe tbody tr th:only-of-type {\n",
       "        vertical-align: middle;\n",
       "    }\n",
       "\n",
       "    .dataframe tbody tr th {\n",
       "        vertical-align: top;\n",
       "    }\n",
       "\n",
       "    .dataframe thead th {\n",
       "        text-align: right;\n",
       "    }\n",
       "</style>\n",
       "<table border=\"1\" class=\"dataframe\">\n",
       "  <thead>\n",
       "    <tr style=\"text-align: right;\">\n",
       "      <th></th>\n",
       "      <th>Community Name</th>\n",
       "      <th>Developed land area km2</th>\n",
       "      <th>Developed land area %</th>\n",
       "      <th>Developed tree % h</th>\n",
       "      <th>Developed AGS % i</th>\n",
       "      <th>Barren land area km2</th>\n",
       "      <th>Barren land area %</th>\n",
       "      <th>Barren tree % h</th>\n",
       "      <th>Barren AGS % i</th>\n",
       "      <th>Forested land area km2</th>\n",
       "      <th>...</th>\n",
       "      <th>Grassland tree % h</th>\n",
       "      <th>Grassland AGS % i</th>\n",
       "      <th>Agricultural land area km2</th>\n",
       "      <th>Agricultural land area %</th>\n",
       "      <th>Agricultural tree % h</th>\n",
       "      <th>Agricultural AGS % i</th>\n",
       "      <th>Wetland land area km2</th>\n",
       "      <th>Wetland land area %</th>\n",
       "      <th>Wetland tree % h</th>\n",
       "      <th>Wetland AGS % i</th>\n",
       "    </tr>\n",
       "  </thead>\n",
       "  <tbody>\n",
       "    <tr>\n",
       "      <td>0</td>\n",
       "      <td>Addison village</td>\n",
       "      <td>0.8703</td>\n",
       "      <td>0.334486</td>\n",
       "      <td>0.068966</td>\n",
       "      <td>0.618356</td>\n",
       "      <td>0.0045</td>\n",
       "      <td>0.001730</td>\n",
       "      <td>0.028000</td>\n",
       "      <td>0.972000</td>\n",
       "      <td>0.2358</td>\n",
       "      <td>...</td>\n",
       "      <td>0.011111</td>\n",
       "      <td>0.988889</td>\n",
       "      <td>1.4553</td>\n",
       "      <td>0.559322</td>\n",
       "      <td>0.081132</td>\n",
       "      <td>0.918869</td>\n",
       "      <td>0.0198</td>\n",
       "      <td>0.007610</td>\n",
       "      <td>0.105000</td>\n",
       "      <td>0.895000</td>\n",
       "    </tr>\n",
       "    <tr>\n",
       "      <td>1</td>\n",
       "      <td>Adrian city</td>\n",
       "      <td>17.6571</td>\n",
       "      <td>0.949199</td>\n",
       "      <td>0.068349</td>\n",
       "      <td>0.527746</td>\n",
       "      <td>0.0306</td>\n",
       "      <td>0.001645</td>\n",
       "      <td>0.000000</td>\n",
       "      <td>1.000000</td>\n",
       "      <td>0.2754</td>\n",
       "      <td>...</td>\n",
       "      <td>0.000000</td>\n",
       "      <td>1.000000</td>\n",
       "      <td>0.5895</td>\n",
       "      <td>0.031690</td>\n",
       "      <td>0.319115</td>\n",
       "      <td>0.680885</td>\n",
       "      <td>0.0486</td>\n",
       "      <td>0.002613</td>\n",
       "      <td>0.392593</td>\n",
       "      <td>0.607407</td>\n",
       "    </tr>\n",
       "    <tr>\n",
       "      <td>2</td>\n",
       "      <td>Ahmeek village</td>\n",
       "      <td>0.1395</td>\n",
       "      <td>0.890805</td>\n",
       "      <td>0.150903</td>\n",
       "      <td>0.482194</td>\n",
       "      <td>0.0000</td>\n",
       "      <td>0.000000</td>\n",
       "      <td>NaN</td>\n",
       "      <td>NaN</td>\n",
       "      <td>0.0144</td>\n",
       "      <td>...</td>\n",
       "      <td>NaN</td>\n",
       "      <td>NaN</td>\n",
       "      <td>0.0027</td>\n",
       "      <td>0.017241</td>\n",
       "      <td>0.530000</td>\n",
       "      <td>0.470000</td>\n",
       "      <td>0.0000</td>\n",
       "      <td>0.000000</td>\n",
       "      <td>NaN</td>\n",
       "      <td>NaN</td>\n",
       "    </tr>\n",
       "    <tr>\n",
       "      <td>3</td>\n",
       "      <td>Akron village</td>\n",
       "      <td>0.7101</td>\n",
       "      <td>0.287432</td>\n",
       "      <td>0.057921</td>\n",
       "      <td>0.622180</td>\n",
       "      <td>0.0000</td>\n",
       "      <td>0.000000</td>\n",
       "      <td>NaN</td>\n",
       "      <td>NaN</td>\n",
       "      <td>0.0738</td>\n",
       "      <td>...</td>\n",
       "      <td>0.000000</td>\n",
       "      <td>1.000000</td>\n",
       "      <td>1.6767</td>\n",
       "      <td>0.678689</td>\n",
       "      <td>0.011111</td>\n",
       "      <td>0.988889</td>\n",
       "      <td>0.0000</td>\n",
       "      <td>0.000000</td>\n",
       "      <td>NaN</td>\n",
       "      <td>NaN</td>\n",
       "    </tr>\n",
       "    <tr>\n",
       "      <td>4</td>\n",
       "      <td>Alanson village</td>\n",
       "      <td>1.1007</td>\n",
       "      <td>0.420709</td>\n",
       "      <td>0.115789</td>\n",
       "      <td>0.606631</td>\n",
       "      <td>0.0063</td>\n",
       "      <td>0.002408</td>\n",
       "      <td>0.268571</td>\n",
       "      <td>0.731429</td>\n",
       "      <td>0.4851</td>\n",
       "      <td>...</td>\n",
       "      <td>0.194021</td>\n",
       "      <td>0.805979</td>\n",
       "      <td>0.6318</td>\n",
       "      <td>0.241486</td>\n",
       "      <td>0.558476</td>\n",
       "      <td>0.441524</td>\n",
       "      <td>0.1152</td>\n",
       "      <td>0.044032</td>\n",
       "      <td>0.163594</td>\n",
       "      <td>0.836406</td>\n",
       "    </tr>\n",
       "  </tbody>\n",
       "</table>\n",
       "<p>5 rows × 29 columns</p>\n",
       "</div>"
      ],
      "text/plain": [
       "    Community Name  Developed land area km2  Developed land area %  \\\n",
       "0  Addison village                   0.8703               0.334486   \n",
       "1      Adrian city                  17.6571               0.949199   \n",
       "2   Ahmeek village                   0.1395               0.890805   \n",
       "3    Akron village                   0.7101               0.287432   \n",
       "4  Alanson village                   1.1007               0.420709   \n",
       "\n",
       "   Developed tree % h  Developed AGS % i  Barren land area km2  \\\n",
       "0            0.068966           0.618356                0.0045   \n",
       "1            0.068349           0.527746                0.0306   \n",
       "2            0.150903           0.482194                0.0000   \n",
       "3            0.057921           0.622180                0.0000   \n",
       "4            0.115789           0.606631                0.0063   \n",
       "\n",
       "   Barren land area %  Barren tree % h  Barren AGS % i  \\\n",
       "0            0.001730         0.028000        0.972000   \n",
       "1            0.001645         0.000000        1.000000   \n",
       "2            0.000000              NaN             NaN   \n",
       "3            0.000000              NaN             NaN   \n",
       "4            0.002408         0.268571        0.731429   \n",
       "\n",
       "   Forested land area km2  ...  Grassland tree % h  Grassland AGS % i  \\\n",
       "0                  0.2358  ...            0.011111           0.988889   \n",
       "1                  0.2754  ...            0.000000           1.000000   \n",
       "2                  0.0144  ...                 NaN                NaN   \n",
       "3                  0.0738  ...            0.000000           1.000000   \n",
       "4                  0.4851  ...            0.194021           0.805979   \n",
       "\n",
       "   Agricultural land area km2  Agricultural land area %  \\\n",
       "0                      1.4553                  0.559322   \n",
       "1                      0.5895                  0.031690   \n",
       "2                      0.0027                  0.017241   \n",
       "3                      1.6767                  0.678689   \n",
       "4                      0.6318                  0.241486   \n",
       "\n",
       "   Agricultural tree % h  Agricultural AGS % i  Wetland land area km2  \\\n",
       "0               0.081132              0.918869                 0.0198   \n",
       "1               0.319115              0.680885                 0.0486   \n",
       "2               0.530000              0.470000                 0.0000   \n",
       "3               0.011111              0.988889                 0.0000   \n",
       "4               0.558476              0.441524                 0.1152   \n",
       "\n",
       "   Wetland land area %  Wetland tree % h  Wetland AGS % i  \n",
       "0             0.007610          0.105000         0.895000  \n",
       "1             0.002613          0.392593         0.607407  \n",
       "2             0.000000               NaN              NaN  \n",
       "3             0.000000               NaN              NaN  \n",
       "4             0.044032          0.163594         0.836406  \n",
       "\n",
       "[5 rows x 29 columns]"
      ]
     },
     "execution_count": 3,
     "metadata": {},
     "output_type": "execute_result"
    }
   ],
   "source": [
    "land_data_by_community = pd.read_excel(\"MI_Tables.xls\", \"8\", skiprows = 3)\n",
    "land_data_by_community.rename(columns = {\"Unnamed: 0\": \"Community Name\", \"Land area km2\": \"Developed land area km2\", \"Land area %\": \"Developed land area %\", \"Tree % h\": \"Developed tree % h\", \"AGS % i\": \"Developed AGS % i\", \"Land area km2.1\": \"Barren land area km2\", \"Land area %.1\": \"Barren land area %\", \"Tree % h.1\": \"Barren tree % h\", \"AGS % i.1\": \"Barren AGS % i\", \"Land area km2.2\": \"Forested land area km2\", \"Land area %.2\": \"Forested land area %\", \"Tree % h.2\": \"Forested tree % h\", \"AGS % i.2\": \"Forested AGS % i\", \"Land area km2.3\": \"Scrub land area km2\", \"Land area %.3\": \"Scrub land area %\", \"Tree % h.3\": \"Scrub tree % h\", \"AGS % i.3\": \"Scrub AGS % i\", \"Land area km2.4\": \"Grassland land area km2\", \"Land area %.4\": \"Grassland land area %\", \"Tree % h.4\": \"Grassland tree % h\", \"AGS % i.4\": \"Grassland AGS % i\", \"Land area km2.5\": \"Agricultural land area km2\", \"Land area %.5\": \"Agricultural land area %\", \"Tree % h.5\": \"Agricultural tree % h\", \"AGS % i.5\": \"Agricultural AGS % i\", \"Land area km2.6\": \"Wetland land area km2\", \"Land area %.6\": \"Wetland land area %\", \"Tree % h.6\": \"Wetland tree % h\", \"AGS % i.6\": \"Wetland AGS % i\"}, inplace = True)\n",
    "land_data_by_community.head()"
   ]
  },
  {
   "cell_type": "markdown",
   "metadata": {},
   "source": [
    "This is the many different land cover types surveyed in all of the counties in Michigan"
   ]
  },
  {
   "cell_type": "code",
   "execution_count": 4,
   "metadata": {},
   "outputs": [
    {
     "data": {
      "text/html": [
       "<div>\n",
       "<style scoped>\n",
       "    .dataframe tbody tr th:only-of-type {\n",
       "        vertical-align: middle;\n",
       "    }\n",
       "\n",
       "    .dataframe tbody tr th {\n",
       "        vertical-align: top;\n",
       "    }\n",
       "\n",
       "    .dataframe thead th {\n",
       "        text-align: right;\n",
       "    }\n",
       "</style>\n",
       "<table border=\"1\" class=\"dataframe\">\n",
       "  <thead>\n",
       "    <tr style=\"text-align: right;\">\n",
       "      <th></th>\n",
       "      <th>n</th>\n",
       "      <th>Tree Canopy Cover Maximum</th>\n",
       "      <th>Tree Canopy Cover Minimum</th>\n",
       "      <th>Tree Canopy Cover Median</th>\n",
       "      <th>Tree Canopy Cover Weighted Mean</th>\n",
       "    </tr>\n",
       "  </thead>\n",
       "  <tbody>\n",
       "    <tr>\n",
       "      <td>0</td>\n",
       "      <td>69</td>\n",
       "      <td>0.8868</td>\n",
       "      <td>0.0100</td>\n",
       "      <td>0.50070</td>\n",
       "      <td>0.560652</td>\n",
       "    </tr>\n",
       "    <tr>\n",
       "      <td>1</td>\n",
       "      <td>86</td>\n",
       "      <td>0.8449</td>\n",
       "      <td>0.0089</td>\n",
       "      <td>0.23295</td>\n",
       "      <td>0.304143</td>\n",
       "    </tr>\n",
       "    <tr>\n",
       "      <td>2</td>\n",
       "      <td>90</td>\n",
       "      <td>0.7005</td>\n",
       "      <td>0.0116</td>\n",
       "      <td>0.24705</td>\n",
       "      <td>0.321387</td>\n",
       "    </tr>\n",
       "    <tr>\n",
       "      <td>3</td>\n",
       "      <td>61</td>\n",
       "      <td>0.6696</td>\n",
       "      <td>0.0114</td>\n",
       "      <td>0.15050</td>\n",
       "      <td>0.276733</td>\n",
       "    </tr>\n",
       "    <tr>\n",
       "      <td>4</td>\n",
       "      <td>58</td>\n",
       "      <td>0.5227</td>\n",
       "      <td>0.0220</td>\n",
       "      <td>0.14090</td>\n",
       "      <td>0.179855</td>\n",
       "    </tr>\n",
       "  </tbody>\n",
       "</table>\n",
       "</div>"
      ],
      "text/plain": [
       "    n  Tree Canopy Cover Maximum  Tree Canopy Cover Minimum  \\\n",
       "0  69                     0.8868                     0.0100   \n",
       "1  86                     0.8449                     0.0089   \n",
       "2  90                     0.7005                     0.0116   \n",
       "3  61                     0.6696                     0.0114   \n",
       "4  58                     0.5227                     0.0220   \n",
       "\n",
       "   Tree Canopy Cover Median  Tree Canopy Cover Weighted Mean  \n",
       "0                   0.50070                         0.560652  \n",
       "1                   0.23295                         0.304143  \n",
       "2                   0.24705                         0.321387  \n",
       "3                   0.15050                         0.276733  \n",
       "4                   0.14090                         0.179855  "
      ]
     },
     "execution_count": 4,
     "metadata": {},
     "output_type": "execute_result"
    }
   ],
   "source": [
    "assessment_stats = pd.read_excel(\"MI_Tables_edited.xls\", \"11\", skiprows = 3, usecols = (3, 4, 5, 6, 7))\n",
    "assessment_stats.rename(columns = {\"Unnamed: 3\": \"n\", \"Maximum\": \"Tree Canopy Cover Maximum\", \"Minimum\": \"Tree Canopy Cover Minimum\", \"Median\": \"Tree Canopy Cover Median\", \"Weighted mean d\": \"Tree Canopy Cover Weighted Mean\"}, inplace = True)\n",
    "assessment_stats.head()"
   ]
  },
  {
   "cell_type": "markdown",
   "metadata": {},
   "source": [
    "This data shows the tree canopy cover in our area of interest (Michigan)"
   ]
  },
  {
   "cell_type": "code",
   "execution_count": 5,
   "metadata": {},
   "outputs": [
    {
     "data": {
      "text/html": [
       "<div>\n",
       "<style scoped>\n",
       "    .dataframe tbody tr th:only-of-type {\n",
       "        vertical-align: middle;\n",
       "    }\n",
       "\n",
       "    .dataframe tbody tr th {\n",
       "        vertical-align: top;\n",
       "    }\n",
       "\n",
       "    .dataframe thead th {\n",
       "        text-align: right;\n",
       "    }\n",
       "</style>\n",
       "<table border=\"1\" class=\"dataframe\">\n",
       "  <thead>\n",
       "    <tr style=\"text-align: right;\">\n",
       "      <th></th>\n",
       "      <th>Type</th>\n",
       "      <th>Mean biomass 1</th>\n",
       "      <th>Mean biomass 2</th>\n",
       "      <th>Mean biomass 3</th>\n",
       "      <th>Area (Mha)</th>\n",
       "      <th>Total biomass (Mg×10^6)</th>\n",
       "      <th>Percentage of total biomass (%)</th>\n",
       "    </tr>\n",
       "  </thead>\n",
       "  <tbody>\n",
       "    <tr>\n",
       "      <td>0</td>\n",
       "      <td>Northern hardwood</td>\n",
       "      <td>56.6</td>\n",
       "      <td>60.7</td>\n",
       "      <td>56.6</td>\n",
       "      <td>11.0</td>\n",
       "      <td>621.3</td>\n",
       "      <td>12.6</td>\n",
       "    </tr>\n",
       "    <tr>\n",
       "      <td>1</td>\n",
       "      <td>Northern mixedwood</td>\n",
       "      <td>63.3</td>\n",
       "      <td>69.7</td>\n",
       "      <td>63.3</td>\n",
       "      <td>9.8</td>\n",
       "      <td>620.9</td>\n",
       "      <td>12.6</td>\n",
       "    </tr>\n",
       "    <tr>\n",
       "      <td>2</td>\n",
       "      <td>Boreal (commercial)</td>\n",
       "      <td>50.6</td>\n",
       "      <td>56.1</td>\n",
       "      <td>50.6</td>\n",
       "      <td>37.5</td>\n",
       "      <td>1897.3</td>\n",
       "      <td>38.4</td>\n",
       "    </tr>\n",
       "    <tr>\n",
       "      <td>3</td>\n",
       "      <td>Boreal (noncommerical)</td>\n",
       "      <td>36.2</td>\n",
       "      <td>41.4</td>\n",
       "      <td>36.2</td>\n",
       "      <td>17.7</td>\n",
       "      <td>640.1</td>\n",
       "      <td>13.0</td>\n",
       "    </tr>\n",
       "    <tr>\n",
       "      <td>4</td>\n",
       "      <td>Taiga</td>\n",
       "      <td>23.8</td>\n",
       "      <td>28.2</td>\n",
       "      <td>23.8</td>\n",
       "      <td>29.5</td>\n",
       "      <td>702.0</td>\n",
       "      <td>14.2</td>\n",
       "    </tr>\n",
       "  </tbody>\n",
       "</table>\n",
       "</div>"
      ],
      "text/plain": [
       "                     Type  Mean biomass 1  Mean biomass 2  Mean biomass 3  \\\n",
       "0       Northern hardwood            56.6            60.7            56.6   \n",
       "1      Northern mixedwood            63.3            69.7            63.3   \n",
       "2     Boreal (commercial)            50.6            56.1            50.6   \n",
       "3  Boreal (noncommerical)            36.2            41.4            36.2   \n",
       "4                   Taiga            23.8            28.2            23.8   \n",
       "\n",
       "   Area (Mha)  Total biomass (Mg×10^6)  Percentage of total biomass (%)  \n",
       "0        11.0                    621.3                             12.6  \n",
       "1         9.8                    620.9                             12.6  \n",
       "2        37.5                   1897.3                             38.4  \n",
       "3        17.7                    640.1                             13.0  \n",
       "4        29.5                    702.0                             14.2  "
      ]
     },
     "execution_count": 5,
     "metadata": {},
     "output_type": "execute_result"
    }
   ],
   "source": [
    "known_biomass = pd.read_excel(\"knownBiomass.xlsx\")\n",
    "known_biomass.rename(columns = {\"Unnamed: 0\": \"Type\"}, inplace = True)\n",
    "known_biomass.head()"
   ]
  },
  {
   "cell_type": "markdown",
   "metadata": {},
   "source": [
    "The data above is from a paper where biomass is evaluated for different areas of different cover types. Because the data for our experiment is not specific to any one cover type, we have decided to construct a regression model to best fit all forest types based only on area. "
   ]
  },
  {
   "cell_type": "markdown",
   "metadata": {},
   "source": [
    "## Model"
   ]
  },
  {
   "cell_type": "code",
   "execution_count": 6,
   "metadata": {},
   "outputs": [
    {
     "name": "stdout",
     "output_type": "stream",
     "text": [
      "The mean-squared error of the regression model is 89459.25 and the coefficient of determination is 0.96.\n",
      "The slope of the linear regression line is [4.13654568] and the y-intercept is [[0.0388314]] .\n"
     ]
    },
    {
     "data": {
      "image/png": "[encoded data removed]",
      "text/plain": [
       "<Figure size 432x288 with 1 Axes>"
      ]
     },
     "metadata": {
      "needs_background": "light"
     },
     "output_type": "display_data"
    }
   ],
   "source": [
    "from sklearn import linear_model\n",
    "from sklearn import metrics\n",
    "import matplotlib.pyplot as plt\n",
    "%matplotlib inline\n",
    "\n",
    "#create shorter labels\n",
    "known_area = pd.DataFrame(known_biomass[\"Area (Mha)\"]*1000)\n",
    "known_bio = pd.DataFrame(known_biomass[\"Total biomass (Mg×10^6)\"])\n",
    "\n",
    "#create linear regression model\n",
    "lm = linear_model.LinearRegression()\n",
    "model = lm.fit(known_area, known_bio)\n",
    "known_biomass_predictions = lm.predict(known_area)\n",
    "\n",
    "#find mean_squared error and r^2\n",
    "mse = metrics.mean_squared_error(known_bio[\"Total biomass (Mg×10^6)\"], known_biomass_predictions)\n",
    "cod = metrics.r2_score(known_bio[\"Total biomass (Mg×10^6)\"], known_biomass_predictions)\n",
    "print(\"The mean-squared error of the regression model is {:.2f} and the coefficient of determination is {:.2f}.\".format(mse, cod))\n",
    "print(\"The slope of the linear regression line is\", lm.intercept_,\"and the y-intercept is\", lm.coef_, \".\")\n",
    "\n",
    "#plot results\n",
    "plt.scatter(known_area, known_bio, label = \"actual\", color = \"yellow\")\n",
    "plt.plot(known_area, known_biomass_predictions, label = \"predicted\", color = \"forestgreen\")\n",
    "plt.title(\"Linear Regression on Known Biomass\")\n",
    "plt.xlabel(\"Area (ha)\")\n",
    "plt.ylabel(\"Total Biomass (Mg×10^6)\")\n",
    "plt.legend()\n",
    "plt.grid()"
   ]
  },
  {
   "cell_type": "markdown",
   "metadata": {},
   "source": [
    "The regression line between the known estimates is used a training set to determine the relationship between vegetation coverage and biomass. "
   ]
  },
  {
   "cell_type": "code",
   "execution_count": 25,
   "metadata": {},
   "outputs": [
    {
     "data": {
      "image/png": "[encoded data removed]",
      "text/plain": [
       "<Figure size 432x288 with 1 Axes>"
      ]
     },
     "metadata": {
      "needs_background": "light"
     },
     "output_type": "display_data"
    }
   ],
   "source": [
    "mi_area = pd.DataFrame(mi_canopy_data_by_community[\"Total green space (ha)\"])\n",
    "mi_biomass_predictions = lm.predict(mi_area)\n",
    "il_area = pd.DataFrame(il_canopy_data_by_community[\"Total green space (ha)\"])\n",
    "il_biomass_predictions = lm.predict(il_area)\n",
    "in_area = pd.DataFrame(in_canopy_data_by_community[\"Total green space (ha)\"])\n",
    "in_biomass_predictions = lm.predict(in_area)\n",
    "oh_area = pd.DataFrame(oh_canopy_data_by_community[\"Total green space (ha)\"])\n",
    "oh_biomass_predictions = lm.predict(oh_area)\n",
    "wi_area = pd.DataFrame(wi_canopy_data_by_community[\"Total green space (ha)\"])\n",
    "wi_biomass_predictions = lm.predict(wi_area)\n",
    "\n",
    "plt.plot(mi_area, mi_biomass_predictions, label = \"fit\")\n",
    "plt.plot(il_area, il_biomass_predictions, label = \"fit\")\n",
    "plt.plot(in_area, in_biomass_predictions, label = \"fit\")\n",
    "plt.plot(oh_area, oh_biomass_predictions, label = \"fit\")\n",
    "plt.plot(wi_area, wi_biomass_predictions, label = \"fit\")\n",
    "plt.title(\"Linear Regression on MI Green Space\")\n",
    "plt.xlabel(\"Area (ha)\")\n",
    "plt.ylabel(\"Total Biomass (Mg×10^6)\")\n",
    "plt.legend()\n",
    "plt.grid()"
   ]
  },
  {
   "cell_type": "markdown",
   "metadata": {},
   "source": [
    "The regression from the known data set is used on the NFS data to predict above ground biomass (agb)"
   ]
  },
  {
   "cell_type": "code",
   "execution_count": 13,
   "metadata": {},
   "outputs": [
    {
     "name": "stdout",
     "output_type": "stream",
     "text": [
      "[11656.51707019]\n"
     ]
    },
    {
     "data": {
      "image/png": "[encoded data removed]",
      "text/plain": [
       "<Figure size 432x288 with 1 Axes>"
      ]
     },
     "metadata": {
      "needs_background": "light"
     },
     "output_type": "display_data"
    }
   ],
   "source": [
    "co2_storage = mi_biomass_predictions*0.5\n",
    "\n",
    "print(sum(co2_storage))\n",
    "\n",
    "plt.plot(canopy_data_by_community[\"Total green space (ha)\"], co2_storage, label = \"co2 storage\", color = \"violet\")\n",
    "plt.title(\"Carbon Storage\")\n",
    "plt.xlabel(\"Area (ha)\")\n",
    "plt.ylabel(\"CO2 storage (Mg*10^6)\")\n",
    "plt.grid()"
   ]
  },
  {
   "cell_type": "markdown",
   "metadata": {},
   "source": [
    "The amount of carbon stored in any given tree is 50% of the agb. In the above graph, the carbon storage is being estimated given the predicted agb. "
   ]
  },
  {
   "cell_type": "markdown",
   "metadata": {},
   "source": [
    "## Results"
   ]
  },
  {
   "cell_type": "markdown",
   "metadata": {},
   "source": [
    "Using the regression above, we can approximate the carbon stored in urban trees based on the urban tree canopy cover. Both of these measurements of from page 1 of the Michigan data set and have been hardcoded in for ease. "
   ]
  },
  {
   "cell_type": "code",
   "execution_count": 9,
   "metadata": {},
   "outputs": [
    {
     "name": "stdout",
     "output_type": "stream",
     "text": [
      "Predicted:  33.657849999999996\n",
      "Actual:  14.8\n"
     ]
    }
   ],
   "source": [
    "canopy_cover = 1629.0 #this is the measurement of the statewide urban tree canopy cover in km^2\n",
    "carbon_storage = 14800000 #this is the estimated carbon storage in the urban trees in metric tons\n",
    "\n",
    "canopy_cover = canopy_cover / 100 #convert kilometers to ha\n",
    "#1 megagram = 1 metric ton\n",
    "carbon_storage = carbon_storage / (10**6) #same units as prediction\n",
    "\n",
    "carbon_predict = (4.13 * canopy_cover + 0.038) * 0.5\n",
    "\n",
    "print('Predicted: ', carbon_predict)\n",
    "print('Actual: ', carbon_storage)"
   ]
  },
  {
   "cell_type": "markdown",
   "metadata": {},
   "source": [
    "## Conclusions"
   ]
  },
  {
   "cell_type": "markdown",
   "metadata": {},
   "source": [
    "_(Conclusions.)_"
   ]
  },
  {
   "cell_type": "markdown",
   "metadata": {},
   "source": [
    "### References"
   ]
  },
  {
   "cell_type": "markdown",
   "metadata": {},
   "source": [
    "Safford, H.; Larry, E.; McPherson, E.G.; Nowak, D.J.; Westphal, L.M. (August 2013). Urban Forests and Climate Change. U.S. Department of Agriculture, Forest Service, Climate Change Resource Center. www.fs.usda.gov/ccrc/topics/urban-forests/"
   ]
  },
  {
   "cell_type": "code",
   "execution_count": null,
   "metadata": {},
   "outputs": [],
   "source": []
  }
 ],
 "metadata": {
  "kernelspec": {
   "display_name": "Python 3",
   "language": "python",
   "name": "python3"
  },
  "language_info": {
   "codemirror_mode": {
    "name": "ipython",
    "version": 3
   },
   "file_extension": ".py",
   "mimetype": "text/x-python",
   "name": "python",
   "nbconvert_exporter": "python",
   "pygments_lexer": "ipython3",
   "version": "3.7.4"
  }
 },
 "nbformat": 4,
 "nbformat_minor": 4
}
