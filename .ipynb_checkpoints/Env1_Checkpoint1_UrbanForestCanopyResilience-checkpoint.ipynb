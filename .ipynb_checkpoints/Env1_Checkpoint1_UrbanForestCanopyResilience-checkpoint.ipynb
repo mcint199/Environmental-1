{
 "cells": [
  {
   "cell_type": "markdown",
   "metadata": {},
   "source": [
    "#### CMSE 202 Final Project  Checkpoint 1\n",
    "### &#9989; Annalise Cornell, Ren McIntyre, Erica Bartosiewicz\n",
    "### &#9989; Section 002, Project Environmental 1\n",
    "#### &#9989; 3/31/2020"
   ]
  },
  {
   "cell_type": "markdown",
   "metadata": {},
   "source": [
    "# ___Urban Forest Canopy Resilience___"
   ]
  },
  {
   "cell_type": "markdown",
   "metadata": {},
   "source": [
    "##### What each person is responsible for\n",
    "\n",
    "###### Annalise:\n",
    "- Statement of the problem/background \n",
    "- the writing in the data section\n",
    "- Conclusions (once we get to them)\n",
    "\n",
    "###### Ren:\n",
    "- Contacting forestry experts\n",
    "- Finding reliable data\n",
    "- Creating a regression model\n",
    "\n",
    "###### Erica:\n",
    "- Creating a presentation\n",
    "- Helping with regression model"
   ]
  },
  {
   "cell_type": "markdown",
   "metadata": {},
   "source": [
    "### Question 1: Statement of the problem. Describe the problem and why it is interesting, important, etc."
   ]
  },
  {
   "cell_type": "markdown",
   "metadata": {},
   "source": [
    "*rough draft of intro*\n",
    "\n",
    "Trees and shrubbery provide several benefits for the community. With increased CO2 emissions and global warming gaining increased concern in the past decades, the protection of the urban forest canopy becomes increasingly important to increase its resilience to climate change.\n",
    "\n",
    "Most of the world's population now lives in what are considered urban areas, and these account for between 40-70 percent of greenhouse gas emissions (Safford et. al., 2013). Urban forests, a term referring to the trees and shrubbery within a densly populated area, might be helpful in strengthening resilience to climate change (Safford et. al., 2013). Plants are known to utilize atmospheric CO2 in the process of photosynthesis, and so they take away from the excess CO2 emissions brought about by humans. \n",
    "\n",
    "This project will look to model how population density and tree density impact carbon sequestration and storage as well as how they take away from total air pollution, thus adding to resilience against climate change."
   ]
  },
  {
   "cell_type": "markdown",
   "metadata": {},
   "source": [
    "citation for intro: Safford, H.; Larry, E.; McPherson, E.G.; Nowak, D.J.; Westphal, L.M. (August 2013). Urban Forests and Climate Change. U.S. Department of Agriculture, Forest Service, Climate Change Resource Center. www.fs.usda.gov/ccrc/topics/urban-forests/"
   ]
  },
  {
   "cell_type": "markdown",
   "metadata": {},
   "source": [
    "### Question 2: Data you will use. What data are you going to utilize? Can you describe the quality of the data (how much, how recent, how accurate, etc.)"
   ]
  },
  {
   "cell_type": "markdown",
   "metadata": {},
   "source": [
    "Pulled data from this site: https://www.nrs.fs.fed.us/data/urban/\n",
    "\n",
    "Pulled data from the site mentioned above and took data for states MI, WI, OH, IN, IL -- figured using all of the states would take too long.\n",
    "\n",
    "The data is fairly old as the main page appears to have last been modified in 2013 and when looking at just michigan it seems the data there was last modified in 2008. This appears to be quite common with forestry data as it takes so long to collect.\n",
    "\n",
    "Just working on getting data cleaned now - large excel workbooks with several sheets trying to maybe separate them all out if it makes the modeling easier."
   ]
  },
  {
   "cell_type": "code",
   "execution_count": 1,
   "metadata": {},
   "outputs": [
    {
     "name": "stdout",
     "output_type": "stream",
     "text": [
      "['1', '2', '3', '4', '5', '6', '7', '8', '9', '10', '11', '12', '13', '14', '15', '16', '17']\n"
     ]
    },
    {
     "data": {
      "text/html": [
       "<div>\n",
       "<style scoped>\n",
       "    .dataframe tbody tr th:only-of-type {\n",
       "        vertical-align: middle;\n",
       "    }\n",
       "\n",
       "    .dataframe tbody tr th {\n",
       "        vertical-align: top;\n",
       "    }\n",
       "\n",
       "    .dataframe thead th {\n",
       "        text-align: right;\n",
       "    }\n",
       "</style>\n",
       "<table border=\"1\" class=\"dataframe\">\n",
       "  <thead>\n",
       "    <tr style=\"text-align: right;\">\n",
       "      <th></th>\n",
       "      <th>Community Name</th>\n",
       "      <th>Population in 2000</th>\n",
       "      <th>% Change from 1990</th>\n",
       "      <th>Density (people/km2)</th>\n",
       "      <th>% Urban Land</th>\n",
       "      <th>% urban change from 1990</th>\n",
       "    </tr>\n",
       "  </thead>\n",
       "  <tbody>\n",
       "    <tr>\n",
       "      <td>0</td>\n",
       "      <td>Addison village</td>\n",
       "      <td>627</td>\n",
       "      <td>-0.007911</td>\n",
       "      <td>248.105093</td>\n",
       "      <td>0.000000</td>\n",
       "      <td>NaN</td>\n",
       "    </tr>\n",
       "    <tr>\n",
       "      <td>1</td>\n",
       "      <td>Adrian city</td>\n",
       "      <td>21574</td>\n",
       "      <td>-0.023668</td>\n",
       "      <td>1167.386317</td>\n",
       "      <td>0.928864</td>\n",
       "      <td>0.004382</td>\n",
       "    </tr>\n",
       "    <tr>\n",
       "      <td>2</td>\n",
       "      <td>Ahmeek village</td>\n",
       "      <td>157</td>\n",
       "      <td>0.060811</td>\n",
       "      <td>864.120335</td>\n",
       "      <td>0.000000</td>\n",
       "      <td>NaN</td>\n",
       "    </tr>\n",
       "    <tr>\n",
       "      <td>3</td>\n",
       "      <td>Akron village</td>\n",
       "      <td>461</td>\n",
       "      <td>0.095012</td>\n",
       "      <td>186.667543</td>\n",
       "      <td>0.000000</td>\n",
       "      <td>NaN</td>\n",
       "    </tr>\n",
       "    <tr>\n",
       "      <td>4</td>\n",
       "      <td>Alanson village</td>\n",
       "      <td>785</td>\n",
       "      <td>0.159527</td>\n",
       "      <td>311.907842</td>\n",
       "      <td>0.000000</td>\n",
       "      <td>NaN</td>\n",
       "    </tr>\n",
       "  </tbody>\n",
       "</table>\n",
       "</div>"
      ],
      "text/plain": [
       "    Community Name  Population in 2000  % Change from 1990  \\\n",
       "0  Addison village                 627           -0.007911   \n",
       "1      Adrian city               21574           -0.023668   \n",
       "2   Ahmeek village                 157            0.060811   \n",
       "3    Akron village                 461            0.095012   \n",
       "4  Alanson village                 785            0.159527   \n",
       "\n",
       "   Density (people/km2)  % Urban Land  % urban change from 1990  \n",
       "0            248.105093      0.000000                       NaN  \n",
       "1           1167.386317      0.928864                  0.004382  \n",
       "2            864.120335      0.000000                       NaN  \n",
       "3            186.667543      0.000000                       NaN  \n",
       "4            311.907842      0.000000                       NaN  "
      ]
     },
     "execution_count": 1,
     "metadata": {},
     "output_type": "execute_result"
    }
   ],
   "source": [
    "import pandas as pd\n",
    "\n",
    "mi = pd.ExcelFile(\"MI_Tables.xls\")\n",
    "print(mi.sheet_names)\n",
    "\n",
    "pop_and_urban_land = pd.read_excel(\"MI_Tables.xls\", \"2\", skiprows = 3)\n",
    "pop_and_urban_land.rename(columns = {\"Unnamed: 0\": \"Community Name\", 2000: \"Population in 2000\", \"%\": \"% Urban Land\", \"% Change from 1990.1\": \"% urban change from 1990\"}, inplace = True)\n",
    "pop_and_urban_land.head()"
   ]
  },
  {
   "cell_type": "markdown",
   "metadata": {},
   "source": [
    "### Question 3: What kind of model are you going to develop? Say something about your model (how appropriate it is for your data, its strengths and weaknesses, etc.)"
   ]
  },
  {
   "cell_type": "markdown",
   "metadata": {},
   "source": [
    "Once we get all of the data out we will start working on the model."
   ]
  },
  {
   "cell_type": "markdown",
   "metadata": {},
   "source": [
    "### Question 4: How will you test your model? What evaluation criteria are you going to use?"
   ]
  },
  {
   "cell_type": "markdown",
   "metadata": {},
   "source": [
    "Honestly not totally sure yet - haven't gotten to work too much on the modeling yet. We reached out to an urban forestry expert and are hoping to receive some guidance and possibly a place to find reliable data that assesses the resilience of the forest canopy."
   ]
  },
  {
   "cell_type": "markdown",
   "metadata": {},
   "source": [
    "### Question 5: Provide your results. Indicate how well your model matched the data (did you do training vs testing, what size, etc.)"
   ]
  },
  {
   "cell_type": "markdown",
   "metadata": {},
   "source": [
    "We haven't gotten to results yet."
   ]
  },
  {
   "cell_type": "markdown",
   "metadata": {},
   "source": [
    "### Question 6: Conclusions. Things you might do differently, problems you ran into, etc."
   ]
  },
  {
   "cell_type": "markdown",
   "metadata": {},
   "source": [
    "We do not have anything for this as we have not completed the project yet."
   ]
  }
 ],
 "metadata": {
  "kernelspec": {
   "display_name": "Python 3",
   "language": "python",
   "name": "python3"
  },
  "language_info": {
   "codemirror_mode": {
    "name": "ipython",
    "version": 3
   },
   "file_extension": ".py",
   "mimetype": "text/x-python",
   "name": "python",
   "nbconvert_exporter": "python",
   "pygments_lexer": "ipython3",
   "version": "3.7.5"
  }
 },
 "nbformat": 4,
 "nbformat_minor": 2
}
